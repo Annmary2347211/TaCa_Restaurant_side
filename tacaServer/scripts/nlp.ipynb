{
 "cells": [
  {
   "cell_type": "code",
   "execution_count": 71,
   "metadata": {},
   "outputs": [
    {
     "name": "stdout",
     "output_type": "stream",
     "text": [
      "(4321, 2)\n",
      "                                             reviewText  label\n",
      "0     Fantastic spot for an even or a quite cocktail...      1\n",
      "1     Love, love, love the calamari. It's so good an...      1\n",
      "2     Love this place. Stiff martinis and cocktails,...      1\n",
      "3     It's everything a great cocktail bar should be...      1\n",
      "4     I came here before a pirates game, so it was a...      1\n",
      "...                                                 ...    ...\n",
      "4316  My wife and I caught this show at the Golden N...      0\n",
      "4317  This was the dumbest show we have ever seen.  ...      0\n",
      "4318  My girlfriend and I went to this show. It was ...      0\n",
      "4319  The restrooms looked like after an bombardment...      0\n",
      "4320  Have been going to the Pennsylvania Macaroni C...      0\n",
      "\n",
      "[4321 rows x 2 columns]\n"
     ]
    }
   ],
   "source": [
    "import pandas as pd\n",
    "\n",
    "# Dummy review data\n",
    "# reviews = [\n",
    "#     \"The food was amazing and the staff were very friendly.\",\n",
    "#     \"Great ambiance and the dessert was fantastic!\",\n",
    "#     \"Loved the decor and the food was top-notch.\",\n",
    "#     \"The restaurant was clean and the service was quick.\",\n",
    "#     \"I had a wonderful time, everything was perfect!\",\n",
    "#     \"The food was cooked to perfection, highly recommend!\",\n",
    "#     \"The service was impeccable and the food was delicious.\",\n",
    "#     \"The ambiance was cozy, and the food was excellent.\",\n",
    "#     \"Delicious food and a great selection of wines.\",\n",
    "#     \"The staff went above and beyond to make our experience special.\",\n",
    "#     \"The pasta was cooked perfectly and the sauce was divine.\",\n",
    "#     \"Amazing sushi, and the presentation was top-notch.\",\n",
    "#     \"The steak was tender and cooked just the way I like it.\",\n",
    "#     \"Loved the variety on the menu, everything we tried was delicious.\",\n",
    "#     \"Great experience overall, from the appetizers to dessert.\",\n",
    "#     \"The cocktails were creative and the food was on point.\",\n",
    "#     \"Had a fantastic dinner, everything was fresh and flavorful.\",\n",
    "#     \"The seafood was incredibly fresh and well-prepared.\",\n",
    "#     \"The atmosphere was lively and the food was outstanding.\",\n",
    "#     \"Exceptional service and the food was out of this world.\",\n",
    "#     \"The restaurant had a warm, inviting atmosphere, and the food was delicious.\",\n",
    "#     \"Best dining experience I've had in a long time.\",\n",
    "#     \"The food was so good, I had to come back the next day!\",\n",
    "#     \"The portions were generous and the food was tasty.\",\n",
    "#     \"Had a great time, the food and service were excellent.\",\n",
    "#     \"The food was good.\",\n",
    "#     \"The food was great.\",\n",
    "#     \"The food was delicious.\",\n",
    "#     \"The food was fresh and tasty.\",\n",
    "#     \"The food was amazing.\",\n",
    "#     \"Terrible experience, the food was cold and tasteless.\",\n",
    "#     \"The service was slow and the food was overpriced.\",\n",
    "#     \"Not worth the money, very disappointed.\",\n",
    "#     \"Food was undercooked and the waiter was rude.\",\n",
    "#     \"Will never go back, worst dining experience ever.\",\n",
    "#     \"The food was bland and lacked any real flavor.\",\n",
    "#     \"Service was terrible, had to wait forever for our food.\",\n",
    "#     \"The restaurant was dirty and the food was awful.\",\n",
    "#     \"The food was greasy and left me feeling sick.\",\n",
    "#     \"The waiter forgot our order, and the food was cold when it finally arrived.\",\n",
    "#     \"Overpriced and overrated, the food was not good.\",\n",
    "#     \"The food was underseasoned and poorly cooked.\",\n",
    "#     \"Terrible service and the food was mediocre at best.\",\n",
    "#     \"The portions were small and the food was not worth the price.\",\n",
    "#     \"The ambiance was nice, but the food was disappointing.\",\n",
    "#     \"The food was stale and the service was unfriendly.\",\n",
    "#     \"Had high hopes, but the food was a letdown.\",\n",
    "#     \"The food was too salty and the service was indifferent.\",\n",
    "#     \"Not impressed, the food was bland and boring.\",\n",
    "#     \"The restaurant was noisy, and the food was subpar.\",\n",
    "#     \"The steak was overcooked and dry.\",\n",
    "#     \"The pasta was mushy and the sauce was bland.\",\n",
    "#     \"The service was slow and the food was cold.\",\n",
    "#     \"The food was overpriced and not very good.\",\n",
    "#     \"The food was bad.\",\n",
    "#     \"The food was terrible.\",\n",
    "#     \"The food was not good.\",\n",
    "#     \"The food was awful.\",\n",
    "#     \"The food was disgusting.\",\n",
    "#     \"The food was very good\",\n",
    "#     \"The food was very bad\",\n",
    "#     \"The food was bad\",\n",
    "#     \"The food was not bad\"\n",
    "# ]\n",
    "\n",
    "# # Labels: 1 for good, 0 for bad\n",
    "# labels = [\n",
    "#     1, 1, 1, 1, 1, 1, 1, 1, 1, 1, 1, 1, 1, 1, 1, 1, 1, 1, 1, 1, 1, 1, 1, 1, 1, 1, 1, 1, 1,\n",
    "#     0, 0, 0, 0, 0, 0, 0, 0, 0, 0, 0, 0, 0, 0, 0, 0, 0, 0, 0, 0, 0, 0, 0, 0, 0, 0, 0, 0, 0,0,1,0,0,1\n",
    "# ]\n",
    "# print(len(reviews),len(labels))\n",
    "\n",
    "data = pd.read_csv('C:/Users/greet/OneDrive/Desktop/Projectt/tacaServer/scripts/TestReviews.csv')\n",
    "print(data.shape)\n",
    "\n",
    "# Create a DataFrame\n",
    "# data = pd.DataFrame({\n",
    "#     'reviewText': reviews,\n",
    "#     'label': labels\n",
    "# })\n",
    "\n",
    "print(data)\n"
   ]
  },
  {
   "cell_type": "code",
   "execution_count": 76,
   "metadata": {},
   "outputs": [],
   "source": [
    "import re\n",
    "from sklearn.feature_extraction.text import TfidfVectorizer\n",
    "from sklearn.model_selection import train_test_split\n",
    "\n",
    "# Text cleaning function\n",
    "def preprocess_text(text):\n",
    "    text = text.lower()\n",
    "    text = re.sub(r'\\W', ' ', text)\n",
    "    text = re.sub(r'\\s+', ' ', text)\n",
    "    return text\n",
    "\n",
    "# Apply preprocessing\n",
    "data['cleaned_review'] = data['reviewText'].apply(preprocess_text)\n",
    "\n",
    "# Vectorization\n",
    "vectorizer = TfidfVectorizer(max_features=500)\n",
    "X = vectorizer.fit_transform(data['cleaned_review'])\n",
    "\n",
    "# Labels\n",
    "y = data['label']\n",
    "\n",
    "# Split into training and testing sets\n",
    "X_train, X_test, y_train, y_test = train_test_split(X, y, test_size=0.1, random_state=42)\n"
   ]
  },
  {
   "cell_type": "code",
   "execution_count": 77,
   "metadata": {},
   "outputs": [
    {
     "name": "stdout",
     "output_type": "stream",
     "text": [
      "Accuracy: 93.30%\n",
      "              precision    recall  f1-score   support\n",
      "\n",
      "           0       0.91      0.83      0.87       116\n",
      "           1       0.94      0.97      0.96       317\n",
      "\n",
      "    accuracy                           0.93       433\n",
      "   macro avg       0.93      0.90      0.91       433\n",
      "weighted avg       0.93      0.93      0.93       433\n",
      "\n"
     ]
    }
   ],
   "source": [
    "from sklearn.linear_model import LogisticRegression\n",
    "from sklearn.metrics import accuracy_score, classification_report\n",
    "\n",
    "# Model creation\n",
    "model = LogisticRegression()\n",
    "model.fit(X_train, y_train)\n",
    "\n",
    "# Predictions on the test set\n",
    "y_pred = model.predict(X_test)\n",
    "\n",
    "# Evaluate the model\n",
    "accuracy = accuracy_score(y_test, y_pred)\n",
    "print(f'Accuracy: {accuracy * 100:.2f}%')\n",
    "print(classification_report(y_test, y_pred))\n"
   ]
  },
  {
   "cell_type": "code",
   "execution_count": 78,
   "metadata": {},
   "outputs": [
    {
     "name": "stdout",
     "output_type": "stream",
     "text": [
      "The review is classified as: good\n"
     ]
    }
   ],
   "source": [
    "import pickle\n",
    "\n",
    "# Save the model and vectorizer\n",
    "with open('dummy_review_classifier.pkl', 'wb') as f:\n",
    "    pickle.dump(model, f)\n",
    "with open('dummy_vectorizer.pkl', 'wb') as f:\n",
    "    pickle.dump(vectorizer, f)\n",
    "\n",
    "def classify_review(review_text):\n",
    "    processed_text = preprocess_text(review_text)\n",
    "    vectorized_text = vectorizer.transform([processed_text])\n",
    "    prediction = model.predict(vectorized_text)[0]\n",
    "    return 'good' if prediction == 1 else 'bad'\n",
    "\n",
    "# Test the function with a new review\n",
    "new_review = \"The food was excellent and the staff was very attentive.\"\n",
    "classification = classify_review(new_review)\n",
    "print(f'The review is classified as: {classification}')\n"
   ]
  },
  {
   "cell_type": "code",
   "execution_count": 68,
   "metadata": {},
   "outputs": [],
   "source": [
    "import pickle\n",
    "\n",
    "# Save the model and vectorizer\n",
    "with open('dummy_review_classifier.pkl', 'wb') as f:\n",
    "    pickle.dump(model, f)\n",
    "with open('dummy_vectorizer.pkl', 'wb') as f:\n",
    "    pickle.dump(vectorizer, f)\n"
   ]
  },
  {
   "cell_type": "code",
   "execution_count": 79,
   "metadata": {},
   "outputs": [
    {
     "name": "stdout",
     "output_type": "stream",
     "text": [
      "The review is classified as: good\n"
     ]
    }
   ],
   "source": [
    "# Load the model and vectorizer\n",
    "with open('dummy_review_classifier.pkl', 'rb') as f:\n",
    "    loaded_model = pickle.load(f)\n",
    "with open('dummy_vectorizer.pkl', 'rb') as f:\n",
    "    loaded_vectorizer = pickle.load(f)\n",
    "\n",
    "# Function to classify using the loaded model\n",
    "def classify_review_with_loaded_model(review_text):\n",
    "    processed_text = preprocess_text(review_text)\n",
    "    vectorized_text = loaded_vectorizer.transform([processed_text])\n",
    "    prediction = loaded_model.predict(vectorized_text)[0]\n",
    "    return 'good' if prediction == 1 else 'bad'\n",
    "\n",
    "# Test the function\n",
    "new_review = \"Service was slow but the food was delicious.\"\n",
    "classification = classify_review_with_loaded_model(new_review)\n",
    "print(f'The review is classified as: {classification}')\n"
   ]
  }
 ],
 "metadata": {
  "kernelspec": {
   "display_name": "Python 3",
   "language": "python",
   "name": "python3"
  },
  "language_info": {
   "codemirror_mode": {
    "name": "ipython",
    "version": 3
   },
   "file_extension": ".py",
   "mimetype": "text/x-python",
   "name": "python",
   "nbconvert_exporter": "python",
   "pygments_lexer": "ipython3",
   "version": "3.11.5"
  }
 },
 "nbformat": 4,
 "nbformat_minor": 2
}
